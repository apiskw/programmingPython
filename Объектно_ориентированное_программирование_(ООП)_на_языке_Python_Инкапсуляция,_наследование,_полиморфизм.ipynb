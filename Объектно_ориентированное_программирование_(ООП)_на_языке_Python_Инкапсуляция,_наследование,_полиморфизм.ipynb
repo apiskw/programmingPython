{
  "nbformat": 4,
  "nbformat_minor": 0,
  "metadata": {
    "colab": {
      "provenance": [],
      "collapsed_sections": [
        "yX_1BfiG6N_J",
        "B8bPnPoymicD",
        "i_LcZuSpnaW-",
        "iV9zxtCbr7s-",
        "RlqkV6hCrGSE",
        "WkiLtoDS4fHN",
        "f68yxfvtb3mJ",
        "oLvy_opY-8Zk"
      ],
      "include_colab_link": true
    },
    "kernelspec": {
      "name": "python3",
      "display_name": "Python 3"
    }
  },
  "cells": [
    {
      "cell_type": "markdown",
      "metadata": {
        "id": "view-in-github",
        "colab_type": "text"
      },
      "source": [
        "<a href=\"https://colab.research.google.com/github/apiskw/programmingPython/blob/main/%D0%9E%D0%B1%D1%8A%D0%B5%D0%BA%D1%82%D0%BD%D0%BE_%D0%BE%D1%80%D0%B8%D0%B5%D0%BD%D1%82%D0%B8%D1%80%D0%BE%D0%B2%D0%B0%D0%BD%D0%BD%D0%BE%D0%B5_%D0%BF%D1%80%D0%BE%D0%B3%D1%80%D0%B0%D0%BC%D0%BC%D0%B8%D1%80%D0%BE%D0%B2%D0%B0%D0%BD%D0%B8%D0%B5_(%D0%9E%D0%9E%D0%9F)_%D0%BD%D0%B0_%D1%8F%D0%B7%D1%8B%D0%BA%D0%B5_Python_%D0%98%D0%BD%D0%BA%D0%B0%D0%BF%D1%81%D1%83%D0%BB%D1%8F%D1%86%D0%B8%D1%8F%2C_%D0%BD%D0%B0%D1%81%D0%BB%D0%B5%D0%B4%D0%BE%D0%B2%D0%B0%D0%BD%D0%B8%D0%B5%2C_%D0%BF%D0%BE%D0%BB%D0%B8%D0%BC%D0%BE%D1%80%D1%84%D0%B8%D0%B7%D0%BC.ipynb\" target=\"_parent\"><img src=\"https://colab.research.google.com/assets/colab-badge.svg\" alt=\"Open In Colab\"/></a>"
      ]
    },
    {
      "cell_type": "markdown",
      "source": [
        "# Объектно-ориентированное программирование (ООП) на языке Python. Инкапсуляция, наследование, полиморфизм."
      ],
      "metadata": {
        "id": "4-7YFpR5aff_"
      }
    },
    {
      "cell_type": "markdown",
      "metadata": {
        "id": "kVhcYo8yDz6j"
      },
      "source": [
        "Парадигма ООП держится на трех столпах:\n",
        "- **Инкапсуляция** — упаковка данных и методов для их обработки вместе,  \n",
        "т. е. в классе. И при необходимости разграничения доступа к ним.\n",
        "- **Наследование** — способность объекта или класса базироваться на другом  \n",
        "объекте или классе. Это главный механизм для повторного использования кода.\n",
        "- **Полиморфизм** — реализация задач одной и той же идеи разными способами.\n"
      ]
    },
    {
      "cell_type": "markdown",
      "metadata": {
        "id": "yX_1BfiG6N_J"
      },
      "source": [
        "## Инкапсуляция"
      ]
    },
    {
      "cell_type": "markdown",
      "source": [
        "### Понятие инкапсуляции"
      ],
      "metadata": {
        "id": "jazO4_88atOU"
      }
    },
    {
      "cell_type": "markdown",
      "metadata": {
        "id": "Pc2lZUoZH8dY"
      },
      "source": [
        "**Инкапсуляция** — упаковка данных и методов для их обработки вместе,  \n",
        "т. е. в классе.  \n",
        "И при необходимости разграничения доступа к ним."
      ]
    },
    {
      "cell_type": "markdown",
      "metadata": {
        "id": "mp6sP_XGIgyC"
      },
      "source": [
        "Например, если надо проверять присваиваемое полю значение на корректность,  \n",
        "то делать это каждый раз в основном коде программы будет нехорошо.\n",
        "```python\n",
        "class Book:\n",
        "    \"\"\" Класс, описывающий объект Книга, который будет использоваться для книг, которые хранятся в библиотеке. \"\"\"\n",
        "    def __init__(self, pages: int):\n",
        "        self.pages = pages\n",
        "\n",
        "book = Book(500)\n",
        "\n",
        "new_pages = 501\n",
        "if not isinstance(new_pages, int):  # проверки вне класса\n",
        "    raise TypeError(\"Количество страниц должно быть типа int\")\n",
        "else:\n",
        "    book.pages = new_pages\n",
        "```"
      ]
    },
    {
      "cell_type": "markdown",
      "metadata": {
        "id": "pF_EIY9yK9ot"
      },
      "source": [
        "Проверочный код должен быть помещен в метод,  \n",
        "который получает данные для присвоения полю.   \n",
        "\n",
        "```python\n",
        "class Book:\n",
        "    \"\"\" Класс, описывающий объект Книга, который будет использоваться для книг, которые хранятся в библиотеке. \"\"\"\n",
        "    def __init__(self, pages: int):\n",
        "        self.pages = None\n",
        "        self.set_pages(pages)  # обращаемся к атрибуту через метод\n",
        "\n",
        "    def set_pages(new_pages: int):\n",
        "        ...  # все необходимые проверки\n",
        "        self.pages = new_pages\n",
        "\n",
        "book = Book(500)\n",
        "\n",
        "new_pages = 501\n",
        "book.set_pages(new_pages)  # обращаемся к атрибуту через метод\n",
        "```\n",
        "\n",
        "А само поле должно быть **закрыто** для доступа из вне класса.  \n",
        "В этом случае ему невозможно будет присвоить недопустимое значение.\n",
        "\n"
      ]
    },
    {
      "cell_type": "markdown",
      "metadata": {
        "id": "Nrc2zPE8PHds"
      },
      "source": [
        "### Реализация инкапсуляции в Python"
      ]
    },
    {
      "cell_type": "markdown",
      "metadata": {
        "id": "CByYA_sEMS42"
      },
      "source": [
        "В Python нет 100% возможности закрыть доступ к атрибутам и методам извне,  \n",
        "хотя существует способ ее имитировать.\n",
        "\n",
        "Пользователю вашего кода необходимо **объяснить**,  \n",
        "что нельзя напрямую обращаться с некоторым атрибутам и методам вашего класса.\n",
        "\n",
        "Делается это приставкой **одного нижнего подчеркивания** или  \n",
        "**двух нижних подчеркиваний** перед названием атрибута или метода.\n",
        "\n",
        "Атрибуты и методы (не важно экземпляра, класса, статические) называются:\n",
        "- **публичными (public)**, если в начале нет подчеркиваний\n",
        "- **защищённые (protected)**, если в начале стоит одно подчеркивание.  \n",
        "    В Python их называют атрибутами API класса.\n",
        "- **приватные (private)**, если в начале стоит два подчеркивания."
      ]
    },
    {
      "cell_type": "code",
      "source": [
        "class SomeClass:\n",
        "    def __init__(self):\n",
        "        self.public_attr = \"public_attr\"\n",
        "        self._protected_attr = \"_protected_attr\"\n",
        "        self.__private_attr = \"__private_attr\"\n",
        "\n",
        "some_instance = SomeClass()\n",
        "print(some_instance.public_attr)  # все хорошо, доступ к публичным атрибутам\n",
        "print(some_instance._protected_attr)  # доступ к защищенным атрибутам, можно но не стоит\n",
        "print(some_instance._SomeClass__private_attr)  # доступ к приватным атрибутам, всё равно можно, но тоже не стоит"
      ],
      "metadata": {
        "colab": {
          "base_uri": "https://localhost:8080/"
        },
        "id": "arOCEy-qvWWd",
        "outputId": "f35e6611-b7e5-4e7b-e11e-7eed60d9ce55"
      },
      "execution_count": null,
      "outputs": [
        {
          "output_type": "stream",
          "name": "stdout",
          "text": [
            "public_attr\n",
            "_protected_attr\n",
            "__private_attr\n"
          ]
        }
      ]
    },
    {
      "cell_type": "markdown",
      "source": [
        "```python\n",
        "class SomeClass:\n",
        "    def __init__(self):\n",
        "        self.__private_attr = \"__private_attr\"\n",
        "```\n",
        "Атрибут вида `__private_attr` преобразуется в `_SomeClass__private_attr`.\n",
        "\n",
        "Применение подчеркиваний:\n",
        "- **одно нижнее подчеркивания** предназначено,  \n",
        "    чтобы показать принадлежность для «внутреннего использования».  \n",
        "    Например, внутри класса.   \n",
        "- **два нижних подчеркивания** позволяют указать более строгую  \n",
        "    внутреннюю принадлежность.  \n",
        "    И больше предназначено для наследования.  \n",
        "\n",
        "Более детально можно почитать в [PEP8](https://pythonworld.ru/osnovy/pep-8-rukovodstvo-po-napisaniyu-koda-na-python.html#section-17)\n"
      ],
      "metadata": {
        "id": "IPBKoYRFxCj1"
      }
    },
    {
      "cell_type": "code",
      "metadata": {
        "id": "p2iyTB8YMSa5"
      },
      "source": [
        "class Book:\n",
        "    def __init__(self, pages: int):\n",
        "        self.pages = pages\n",
        "\n",
        "book = Book(200)\n",
        "book.pages = \"Можно установить чего угодно :(\""
      ],
      "execution_count": null,
      "outputs": []
    },
    {
      "cell_type": "code",
      "source": [
        "class Book:\n",
        "    \"\"\" Класс, описывающий объект Книга, который будет использоваться для книг, которые хранятся в библиотеке. \"\"\"\n",
        "    def __init__(self, pages: int):\n",
        "        self.pages = pages  # TODO сделать атрибут защищеным, добавив нижнее подчеркивание вначале атрибута\n",
        "\n",
        "    # Публичный метод, который внутри работает с защищенным атрибутом self._pages\n",
        "    def get_pages(self) -> int:\n",
        "        \"\"\"Возвращает количество страниц в книге.\"\"\"\n",
        "        ...  # TODO реализовать возвращение значения защищенного атрибута\n",
        "\n",
        "    # Публичный метод, который внутри работает с защищенным атрибутом self._pages\n",
        "    def set_pages(self, new_pages: int) -> None:\n",
        "        \"\"\"Устанавливает количество страниц в книге.\"\"\"\n",
        "        ...  # TODO реализовать установку значения защищенному атрибуту\n",
        "\n",
        "\n",
        "book = Book(200)\n",
        "print(book.get_pages())\n",
        "book.set_pages(300)\n",
        "print(book.get_pages())"
      ],
      "metadata": {
        "id": "_CJkLApi2Cy0",
        "colab": {
          "base_uri": "https://localhost:8080/"
        },
        "outputId": "0ccaecf4-b97a-48f5-e017-0bbb2498d1f5"
      },
      "execution_count": null,
      "outputs": [
        {
          "output_type": "stream",
          "name": "stdout",
          "text": [
            "200\n",
            "300\n"
          ]
        }
      ]
    },
    {
      "cell_type": "markdown",
      "source": [
        "```python\n",
        "class Book:\n",
        "    \"\"\" Класс, описывающий объект Книга, который будет использоваться для книг, которые хранятся в библиотеке. \"\"\"\n",
        "    def __init__(self, pages: int):\n",
        "        self._pages = None  # делаем атрибут защищеным, добавив нижнее подчеркивание вначале атрибута\n",
        "        self.set_pages(pages)  # устанавливаем с помощью метода значение количества страниц\n",
        "\n",
        "    # Публичный метод, который внутри работает с защищенным атрибутом self._pages\n",
        "    def get_pages(self) -> int:  \n",
        "        \"\"\"Возвращает количество страниц в книге.\"\"\"\n",
        "        return self._pages\n",
        "    \n",
        "    # Публичный метод, который внутри работает с защищенным атрибутом self._pages\n",
        "    def set_pages(self, new_pages: int) -> None:\n",
        "        \"\"\"Устанавливает количество страниц в книге.\"\"\"\n",
        "        if not isinstance(new_pages, int):\n",
        "            raise TypeError(\"Количество страниц должно быть типа int\")\n",
        "        if new_pages <= 0:\n",
        "            raise ValueError(\"Количество страниц должно быть положительным числом\")\n",
        "        self._pages = new_pages  # после всех проверок, устанавливаем значение защищенному атрибуту\n",
        "```"
      ],
      "metadata": {
        "id": "udtBW2Ifk79M"
      }
    },
    {
      "cell_type": "markdown",
      "metadata": {
        "id": "0TISvpcRjNMM"
      },
      "source": [
        "### Свойства в Python"
      ]
    },
    {
      "cell_type": "markdown",
      "metadata": {
        "id": "KubKbHLQlXoC"
      },
      "source": [
        "> Назовите простые публичные атрибуты понятными именами и  \n",
        "не пишите сложные методы доступа и изменения  \n",
        "(accessor/mutator, get/set, — прим. перев.)  \n",
        "> Помните, что в python очень легко добавить их потом, если потребуется.  \n",
        "В этом случае используйте свойства (properties),  \n",
        "чтобы скрыть функциональную реализацию за синтаксисом доступа к атрибутам.\n",
        "\n",
        "См. [PEP8](https://pythonworld.ru/osnovy/pep-8-rukovodstvo-po-napisaniyu-koda-na-python.html#section-17)\n",
        "\n",
        "Свойства - методы, которые ведут себя как атрибуты.  \n",
        "\n",
        "Свойство нечто среднее между атрибутом и методом.  \n",
        "По синтаксису вызывается как атрибут, но содержит в себе логику как в методе.\n",
        "\n",
        "```python\n",
        "class PropertyClass:\n",
        "\n",
        "    @property\n",
        "    def prop(self):\n",
        "        \"\"\"Геттер не принимает никаких агрументов, но должен возвращать какой-то результат.\"\"\"\n",
        "        return None\n",
        "\n",
        "    @prop.setter\n",
        "    def prop(self, value):\n",
        "        \"\"\"Сеттер принимает один агрумент, и не должен возвращать результат.\"\"\"\n",
        "        ...\n",
        "```\n",
        "\n",
        "`prop` - название переменной свойства.  \n"
      ]
    },
    {
      "cell_type": "markdown",
      "metadata": {
        "id": "B8bPnPoymicD"
      },
      "source": [
        "#### getter"
      ]
    },
    {
      "cell_type": "markdown",
      "metadata": {
        "id": "hq9vuooelr0n"
      },
      "source": [
        "Свойство возвращает состояние какого-либо атрибута,  \n",
        "который хотят спрятать от прямого доступа пользователя.\n",
        "\n",
        "Что бы метод стал свойством его необходимо задекорировать декоратором **`@property`**.  \n",
        "И он сразу начинает вести себя как getter\n",
        "```python\n",
        "@property\n",
        "def prop(self):\n",
        "    \"\"\"Геттер не принимает никаких агрументов, но должен возвращать какой-то результат.\"\"\"\n",
        "    return None\n",
        "```\n",
        "***Важно***:\n",
        "- getter не принимает никаких аргументов\n",
        "- getter должен возвращать какой-то результат"
      ]
    },
    {
      "cell_type": "markdown",
      "metadata": {
        "id": "W2PN1BkQmqjc"
      },
      "source": [
        "Если объявлен только getter, то свойство доступно **только на чтение** и  \n",
        "пользователь не может изменить его значение.  "
      ]
    },
    {
      "cell_type": "code",
      "metadata": {
        "id": "siFq8qA6m-Ab",
        "colab": {
          "base_uri": "https://localhost:8080/"
        },
        "outputId": "3a18f369-07c3-44a0-c60e-a2762fa76346"
      },
      "source": [
        "class Book:\n",
        "    def __init__(self, name: str):\n",
        "        self.name = name  # TODO сделать атрибут защищенным\n",
        "\n",
        "    # TODO написать свойство для name\n",
        "\n",
        "book = Book(\"Букварь\")\n",
        "print(book.name)  # вызов getter свойства\n",
        "\n",
        "# TODO попробовать установить значение свойству"
      ],
      "execution_count": null,
      "outputs": [
        {
          "output_type": "stream",
          "name": "stdout",
          "text": [
            "Букварь\n"
          ]
        }
      ]
    },
    {
      "cell_type": "markdown",
      "source": [
        "Первое применение свойст - это сделать атрибут только для чтения (read-only),  \n",
        "объявив только getter.\n",
        "\n",
        "```python\n",
        "class Book:\n",
        "    def __init__(self, name: str):\n",
        "        self._name = name  # инициализируем защищенный атрибут\n",
        "\n",
        "    @property\n",
        "    def name(self):\n",
        "        \"\"\"Геттер не принимает никаких агрументов, но должен возвращать какой-то результат.\"\"\"\n",
        "        return self._name  # внутри класса обращаемся к защищенному атрибуту\n",
        "\n",
        "book = Book(\"Букварь\")\n",
        "print(book.name)  # вызов getter свойства\n",
        "```"
      ],
      "metadata": {
        "id": "Dlpj3pkZsHmF"
      }
    },
    {
      "cell_type": "markdown",
      "metadata": {
        "id": "i_LcZuSpnaW-"
      },
      "source": [
        "#### setter"
      ]
    },
    {
      "cell_type": "markdown",
      "metadata": {
        "id": "TkbX_LJcl_MW"
      },
      "source": [
        "Setter изменяет состояние какого-либо атрибута,  \n",
        "который хотят спрятать от прямого доступа пользователя.\n",
        "\n",
        "Чтобы у свойства появился setter метод нужно  \n",
        "задекорировать декоратором **`@<property_name>.setter`**.\n",
        "\n",
        "```python\n",
        "@property\n",
        "def prop(self):\n",
        "    \"\"\"Геттер не принимает никаких агрументов, но должен возвращать какой-то результат.\"\"\"\n",
        "    return None\n",
        "\n",
        "@prop.setter\n",
        "def prop(self, value):\n",
        "    \"\"\"Сеттер принимает один агрумент, и не должен возвращать результат.\"\"\"\n",
        "    ...\n",
        "```\n",
        "***Важно***:\n",
        "- setter принимает **один** аргумент\n",
        "- setter не должен возвращать какой-то результат\n",
        "\n",
        "Нельзя объявить один setter.  \n",
        "Setter может существовать только совместно с getter.  \n",
        "\n",
        "Также setter и getter должны называться одинаково."
      ]
    },
    {
      "cell_type": "code",
      "metadata": {
        "id": "iNgTn6J3o0NI",
        "colab": {
          "base_uri": "https://localhost:8080/"
        },
        "outputId": "7918851f-1705-4d10-85d8-c1c6d6718f33"
      },
      "source": [
        "class Book:\n",
        "    def __init__(self, pages: int):\n",
        "        self.pages = pages\n",
        "\n",
        "    # TODO реализовать свойство и setter для свойства\n",
        "\n",
        "book = Book(200)\n",
        "print(book.pages)\n",
        "book.pages = 300\n",
        "print(book.pages)"
      ],
      "execution_count": null,
      "outputs": [
        {
          "output_type": "stream",
          "name": "stdout",
          "text": [
            "200\n",
            "300\n"
          ]
        }
      ]
    },
    {
      "cell_type": "markdown",
      "source": [
        "```python\n",
        "class Book:\n",
        "    def __init__(self, pages: int):\n",
        "        self.pages = pages  # отработает setter свойства!\n",
        "\n",
        "    # вместо get_pages используется метод pages и @property\n",
        "    @property\n",
        "    def pages(self) -> int:  \n",
        "        \"\"\"Возвращает количество страниц в книге.\"\"\"\n",
        "        return self._pages\n",
        "\n",
        "    # вместо set_pages используется метод pages и @pages.setter\n",
        "    @pages.setter\n",
        "    def pages(self, new_pages: int) -> None:  \n",
        "        \"\"\"Устанавливает количество страниц в книге.\"\"\"\n",
        "        if not isinstance(new_pages, int):\n",
        "            raise TypeError(\"Количество страниц должно быть типа int\")\n",
        "        if new_pages <= 0:\n",
        "            raise ValueError(\"Количество страниц должно быть положительным числом\")\n",
        "        self._pages = new_pages\n",
        "\n",
        "book = Book(200)\n",
        "print(book.pages)  # вызываем как атрибут, но срабатывает метод\n",
        "book.pages = 300  # присваиваем значение атрибуту, но срабатывает метод\n",
        "print(book.pages)\n",
        "```"
      ],
      "metadata": {
        "id": "9TwnbbHvx2PW"
      }
    },
    {
      "cell_type": "markdown",
      "metadata": {
        "id": "iV9zxtCbr7s-"
      },
      "source": [
        "### Применение свойств"
      ]
    },
    {
      "cell_type": "markdown",
      "metadata": {
        "id": "7PCPDZQit5x7"
      },
      "source": [
        "Первое применение свойст - это сделать атрибут только для чтения (read-only),  \n",
        "объявив только getter.\n",
        "\n",
        "Второе и пожалуй более важное.  \n",
        "При переходе от публичных атрибутов к защищенным, нам пришлось переименовывать  \n",
        "атрибуты внутри класса это раз,  \n",
        "два а вдруг, кто-то вне нашего класса уже пользовался атрибутами,  \n",
        "а мы их закрыли((\n",
        "\n",
        "Так вот свойства, помимо сокрытия и навешивания дополнительной логики,  \n",
        "позволяют сделать реализацию класса сначала с атрибутами,  \n",
        "а потом по мере необходимости переходить к свойствам.\n",
        "\n",
        "При этом внутренние изменения нашего класса абсолютно прозрачны  \n",
        "для всех сущностей с которыми он взаимодействует  \n",
        "(при учете того, что всё реализовано корректно:))).  \n",
        "Атрибут не переименован и вызывается также.\n"
      ]
    },
    {
      "cell_type": "markdown",
      "metadata": {
        "id": "8c6d5oG5ly-L"
      },
      "source": [
        "Чуть глубже с устройством свойств можно ознакомиться [здесь](https://way23.ru/python-%D1%81%D0%B2%D0%BE%D0%B9%D1%81%D1%82%D0%B2%D0%B0/)"
      ]
    },
    {
      "cell_type": "markdown",
      "metadata": {
        "id": "RlqkV6hCrGSE"
      },
      "source": [
        "### Выводы\n"
      ]
    },
    {
      "cell_type": "markdown",
      "source": [
        "1. В языке Python к непубличным переменным доступ разрешён.\n",
        "1. В языке Python Вы в любом случаем сможете изменить непубличные атрибуты.\n",
        "1. В языке Python вы просто **предоставляете информацию** пользователю  \n",
        "разработанного Вами класса, что данный **атрибут предназначен только для  \n",
        "внутренней инфраструктуры класса**.\n",
        "1. Вы не гарантируете, что непубличные атрибуты могут измениться  \n",
        "в следующей версии вашего кода.\n",
        "1. Инкапсулируйте все, что может изменяться.\n",
        "1. Свойства - методы, которые ведут себя как атрибуты.\n",
        "    1. Свойство-сеттер определяется после свойства-геттера.\n",
        "    2. Сеттер, и геттер называются одинаково\n",
        "    3. Что к геттеру, что к сеттеру, обращаемся как к атрибуту."
      ],
      "metadata": {
        "id": "-_jC5mtx2TFD"
      }
    },
    {
      "cell_type": "markdown",
      "metadata": {
        "id": "2LIBYeAj6UJI"
      },
      "source": [
        "## Наследование"
      ]
    },
    {
      "cell_type": "markdown",
      "source": [
        "### Понятие наследования"
      ],
      "metadata": {
        "id": "G68FJZjka-Y1"
      }
    },
    {
      "cell_type": "markdown",
      "metadata": {
        "id": "PWT69mpjmEsB"
      },
      "source": [
        "**Наследование** — способность класса базироваться на другом классе.  \n",
        "Это главный механизм для повторного использования кода."
      ]
    },
    {
      "cell_type": "markdown",
      "metadata": {
        "id": "gH3QDTiFnaaQ"
      },
      "source": [
        "Под наследованием в ООП понимается **наличие классов и подклассов**."
      ]
    },
    {
      "cell_type": "markdown",
      "source": [
        "\n",
        "\n",
        "<img src=\"https://letidor.ru/thumb/725x0/filters:quality(75)/imgs/2018/04/24/07/2143656/7cc094c76fb86cbe7d9e1f98f4693019132d2945.jpg\" width=500/>"
      ],
      "metadata": {
        "id": "G5a41UU-yW9q"
      }
    },
    {
      "cell_type": "markdown",
      "metadata": {
        "id": "5cdOccJUnUiN"
      },
      "source": [
        "<img alt=\"https://app.diagrams.net/#G15KyMyEEc4_eYPd4Vzr1j2PGPo-lD5ArZ\" src=\"https://drive.google.com/uc?id=15KyMyEEc4_eYPd4Vzr1j2PGPo-lD5ArZ\"/>"
      ]
    },
    {
      "cell_type": "markdown",
      "metadata": {
        "id": "4XCdVpZsnl_X"
      },
      "source": [
        "***Синтаксис наследования:***\n",
        "```python\n",
        "class НазваниеПодкласса(БазовыйКласс):\n",
        "    ...\n",
        "```\n",
        "```python\n",
        "class Book:\n",
        "    \"\"\"Базовый класс\"\"\"\n",
        "\n",
        "class PaperBook(Book):\n",
        "    \"\"\"Дочерний класс\"\"\"\n",
        "\n",
        "class EBook(Book):\n",
        "    \"\"\"Дочерний класс\"\"\"\n",
        "```\n",
        "Класс **`Book`** называют базовым по отношению к классам  \n",
        "**`PaperBook`** и **`EBook`**.\n",
        "\n",
        "Классы **`PaperBook`** и **`EBook`** называют дочерними."
      ]
    },
    {
      "cell_type": "code",
      "source": [
        "class PaperBook:\n",
        "    \"\"\"Бумажная книга\"\"\"\n",
        "    author: str = 'Пушкин А. С.'\n",
        "    pages: int = 500\n",
        "    cover: str = \"Твердый переплет\"\n",
        "\n",
        "\n",
        "class EBook:\n",
        "    \"\"\"Оцифрованная книга\"\"\"\n",
        "    author: str = 'Пушкин А. С.'\n",
        "    pages: int = 500\n",
        "    format: str = \"pdf\"\n",
        "\n",
        "\n",
        "print(PaperBook.pages)\n",
        "print(EBook.pages)"
      ],
      "metadata": {
        "id": "iWGhnNGkx7vY",
        "colab": {
          "base_uri": "https://localhost:8080/"
        },
        "outputId": "fe8e9a5e-fb41-4f44-9385-d61e1e6f6bb2"
      },
      "execution_count": null,
      "outputs": [
        {
          "output_type": "stream",
          "name": "stdout",
          "text": [
            "500\n",
            "500\n"
          ]
        }
      ]
    },
    {
      "cell_type": "code",
      "source": [
        "class Book:\n",
        "    \"\"\"Базовый класс книги\"\"\"\n",
        "    author: str = 'Пушкин А. С.'\n",
        "    pages: int = 500\n",
        "\n",
        "class PaperBook(Book):\n",
        "    \"\"\"Бумажная книга\"\"\"\n",
        "    cover: str = \"Твердый переплет\"\n",
        "\n",
        "class EBook(Book):\n",
        "    \"\"\"Оцифрованная книга\"\"\"\n",
        "    format: str = \"pdf\"\n",
        "\n",
        "print(PaperBook.pages)  # унаследованные атрибут\n",
        "print(EBook.pages)  # унаследованные атрибут\n",
        "\n",
        "print(PaperBook.cover)  # атрибут только класса PaperBook\n",
        "print(EBook.format)  # атрибут только класса EBook"
      ],
      "metadata": {
        "colab": {
          "base_uri": "https://localhost:8080/"
        },
        "id": "Pr1PWqb41tQy",
        "outputId": "0b20f518-2ea2-4b0d-a5de-fc94d57f967b"
      },
      "execution_count": null,
      "outputs": [
        {
          "output_type": "stream",
          "name": "stdout",
          "text": [
            "500\n",
            "500\n",
            "Твердый переплет\n",
            "pdf\n"
          ]
        }
      ]
    },
    {
      "cell_type": "markdown",
      "metadata": {
        "id": "G2mRfjQm_iaL"
      },
      "source": [
        "### Методы при наследовании"
      ]
    },
    {
      "cell_type": "markdown",
      "metadata": {
        "id": "8Gx-T8FW_iaM"
      },
      "source": [
        "Наследование - это главный механизм для **повторного использования кода**.  \n",
        "\n",
        "Если нам не нужно изменять поведение метода в дочернем классе,  \n",
        "то можно воспользоваться реализацией родителя."
      ]
    },
    {
      "cell_type": "code",
      "source": [
        "class PaperBook:\n",
        "    def __init__(self, name: str):\n",
        "        self.name = name\n",
        "\n",
        "    def __str__(self) -> str:\n",
        "        return f'Книга \"{self.name}\"'\n",
        "\n",
        "class EBook(PaperBook):  # наследуемся от PaperBook\n",
        "    ...\n",
        "\n",
        "ebook = EBook(\"Букварь\")\n",
        "print(ebook)"
      ],
      "metadata": {
        "colab": {
          "base_uri": "https://localhost:8080/"
        },
        "outputId": "653ed3b9-8b76-4330-9a03-278a390417ad",
        "id": "w3MSfcMS_iaM"
      },
      "execution_count": null,
      "outputs": [
        {
          "output_type": "stream",
          "name": "stdout",
          "text": [
            "Книга \"Букварь\"\n"
          ]
        }
      ]
    },
    {
      "cell_type": "code",
      "source": [
        "class PaperBook:\n",
        "    def __init__(self, name: str):\n",
        "        self.name = name\n",
        "\n",
        "    def __repr__(self) -> str:\n",
        "        return f'PaperBook({self.name!r})'  # TODO переделать метод, чтобы унаследовать его\n",
        "\n",
        "class EBook(PaperBook):  # наследуемся от PaperBook\n",
        "    ...\n",
        "\n",
        "\n",
        "print(PaperBook(\"Букварь\"))  # PaperBook('Букварь')\n",
        "print(EBook(\"Букварь\"))  # EBook('Букварь')"
      ],
      "metadata": {
        "id": "wOAc4LG279eN",
        "outputId": "b323da27-ecca-48f0-fbfd-16b06c1e1bb6",
        "colab": {
          "base_uri": "https://localhost:8080/"
        }
      },
      "execution_count": null,
      "outputs": [
        {
          "output_type": "stream",
          "name": "stdout",
          "text": [
            "PaperBook('Букварь')\n",
            "PaperBook('Букварь')\n"
          ]
        }
      ]
    },
    {
      "cell_type": "markdown",
      "source": [
        "```python\n",
        "class PaperBook:\n",
        "    def __init__(self, name: str):\n",
        "        self.name = name\n",
        "    \n",
        "    def __repr__(self) -> str:\n",
        "        return f'{self.__class__.__name__}({self.name!r})'\n",
        "\n",
        "class EBook(PaperBook):  # наследуемся от PaperBook\n",
        "    ...\n",
        "\n",
        "ebook = EBook(\"Букварь\")\n",
        "print(ebook)\n",
        "```"
      ],
      "metadata": {
        "id": "1q38l8KY8HWQ"
      }
    },
    {
      "cell_type": "markdown",
      "metadata": {
        "id": "6dK0lwjW_iaO"
      },
      "source": [
        "Поиск методов идет по цепочке ничиная с дочернего класса и  \n",
        "поднимаясь по всем классам от которых наследовались.\n",
        "\n",
        "Если добрались до самого базового класса и метод не найден, будет ошибка."
      ]
    },
    {
      "cell_type": "markdown",
      "source": [
        "### MRO"
      ],
      "metadata": {
        "id": "WkiLtoDS4fHN"
      }
    },
    {
      "cell_type": "markdown",
      "source": [
        "Различают одиночное и множественное наследование.  \n",
        "\n",
        "```python\n",
        "class SingleInheritance(OneClass):  # одиночное наследование\n",
        "    ...\n",
        "\n",
        "\n",
        "class MultiInheritance(OneClass, OtherClass):  # множественное наследование\n",
        "    ...\n",
        "```"
      ],
      "metadata": {
        "id": "Tt67WQKf5qP-"
      }
    },
    {
      "cell_type": "markdown",
      "source": [
        "Аббревиатура MRO – method resolution order или «порядок разрешения методов».  \n",
        "Тоже самое относится не только к методам, но и к прочим атрибутам."
      ],
      "metadata": {
        "id": "z-tyL5FD4htI"
      }
    },
    {
      "cell_type": "code",
      "source": [
        "class A:\n",
        "    ...\n",
        "\n",
        "class B(A):  # наследуемся от A\n",
        "    ...\n",
        "\n",
        "print(A.mro())  # [<class '__main__.A'>, <class 'object'>]\n",
        "print(B.mro())  # [<class '__main__.B'>, <class '__main__.A'>, <class 'object'>]"
      ],
      "metadata": {
        "colab": {
          "base_uri": "https://localhost:8080/"
        },
        "id": "ONX7KuGm3cZC",
        "outputId": "5094cbe4-5e6d-42cd-aa96-085f9a36c42d"
      },
      "execution_count": null,
      "outputs": [
        {
          "output_type": "stream",
          "name": "stdout",
          "text": [
            "[<class '__main__.A'>, <class 'object'>]\n",
            "[<class '__main__.B'>, <class '__main__.A'>, <class 'object'>]\n"
          ]
        }
      ]
    },
    {
      "cell_type": "markdown",
      "source": [
        "Конечный класс в цепочке всегда – `object`;  \n",
        "от него неявно наследуются все объекты в Python 3."
      ],
      "metadata": {
        "id": "awmll1hQ5MxY"
      }
    },
    {
      "cell_type": "code",
      "source": [
        "class A:\n",
        "    ...\n",
        "\n",
        "class B:\n",
        "    ...\n",
        "\n",
        "class C(A, B):  # наследуемся от A и B. Поиск методов при множественном наследовании слева направо\n",
        "    ...\n",
        "\n",
        "C.mro()  # [__main__.C, __main__.A, __main__.B, object]"
      ],
      "metadata": {
        "colab": {
          "base_uri": "https://localhost:8080/"
        },
        "id": "TW9_YcjV5P_6",
        "outputId": "0711477e-11b9-40b9-c365-68d2da8e4dca"
      },
      "execution_count": null,
      "outputs": [
        {
          "output_type": "execute_result",
          "data": {
            "text/plain": [
              "[__main__.C, __main__.A, __main__.B, object]"
            ]
          },
          "metadata": {},
          "execution_count": 11
        }
      ]
    },
    {
      "cell_type": "markdown",
      "metadata": {
        "id": "qsd3rF-evEb4"
      },
      "source": [
        "### Одиночное наследование"
      ]
    },
    {
      "cell_type": "markdown",
      "source": [
        "#### Наследование конструктора базового класса"
      ],
      "metadata": {
        "id": "f68yxfvtb3mJ"
      }
    },
    {
      "cell_type": "code",
      "metadata": {
        "id": "r1dgjzE0nio3",
        "colab": {
          "base_uri": "https://localhost:8080/"
        },
        "outputId": "8c9e175b-1ce7-487b-a055-20a059afc252"
      },
      "source": [
        "class BaseClass:\n",
        "    def __init__(self):\n",
        "        print(f'Вызван конструктор класса {self.__class__.__name__}')\n",
        "\n",
        "\n",
        "class SubClass(BaseClass):\n",
        "    # __init__ не определен\n",
        "    ...\n",
        "\n",
        "b = BaseClass()\n",
        "s = SubClass()"
      ],
      "execution_count": null,
      "outputs": [
        {
          "output_type": "stream",
          "name": "stdout",
          "text": [
            "Вызван конструктор класса BaseClass\n",
            "Вызван конструктор класса SubClass\n"
          ]
        }
      ]
    },
    {
      "cell_type": "markdown",
      "metadata": {
        "id": "vrqvV00Evt5L"
      },
      "source": [
        "Правила вызова инициализатора базового класса\n",
        "1. Если метод `__init__` в производном классе не определён,  \n",
        "то автоматически вызывается метод `__init__` базового класса.\n",
        "2. Если метод `__init__` в производном классе определён,  \n",
        "то метод `__init__` базового класса автоматически не вызывается."
      ]
    },
    {
      "cell_type": "markdown",
      "metadata": {
        "id": "XmmTxyLXwK25"
      },
      "source": [
        "#### Вызов конструктора родительского класса. Функция super"
      ]
    },
    {
      "cell_type": "markdown",
      "metadata": {
        "id": "z3-cXo4qwT4S"
      },
      "source": [
        "А если в дочернем классе, после переопределения метода **`__init__`**  \n",
        "все равно необходимо вызвать конструктор базового класса?\n",
        "\n",
        "В таком случае необходимо воспользоваться встроенной функцией **`super()`**.\n",
        "\n",
        "**`super()`** эквивалентно переменной `cls`, только на родительский класс."
      ]
    },
    {
      "cell_type": "code",
      "metadata": {
        "id": "00Rd7lKTxA1b",
        "colab": {
          "base_uri": "https://localhost:8080/"
        },
        "outputId": "61b58cc6-cda3-461d-af02-8688c70a2c5b"
      },
      "source": [
        "class BaseClass:\n",
        "    def __init__(self):\n",
        "        print(f'Вызван конструктор базового класса')\n",
        "\n",
        "\n",
        "class SubClass(BaseClass):\n",
        "    def __init__(self):\n",
        "        print(f'Вызван конструктор дочернего класса')\n",
        "\n",
        "b = BaseClass()\n",
        "s = SubClass()"
      ],
      "execution_count": null,
      "outputs": [
        {
          "output_type": "stream",
          "name": "stdout",
          "text": [
            "Вызван конструктор базового класса\n",
            "Вызван конструктор дочернего класса\n"
          ]
        }
      ]
    },
    {
      "cell_type": "code",
      "source": [
        "class BaseClass:\n",
        "    def __init__(self):\n",
        "        print(f'Вызван конструктор базового класса')\n",
        "\n",
        "\n",
        "class SubClass(BaseClass):\n",
        "    def __init__(self):\n",
        "        super().__init__()  # вызывает метод родительского класса\n",
        "        print(f'Вызван конструктор дочернего класса')\n",
        "\n",
        "b = BaseClass()\n",
        "s = SubClass()"
      ],
      "metadata": {
        "colab": {
          "base_uri": "https://localhost:8080/"
        },
        "id": "IaznHDDIpRzY",
        "outputId": "f859670e-7d6b-4827-dcdb-d8ed3a396945"
      },
      "execution_count": null,
      "outputs": [
        {
          "output_type": "stream",
          "name": "stdout",
          "text": [
            "Вызван конструктор базового класса\n",
            "Вызван конструктор базового класса\n",
            "Вызван конструктор дочернего класса\n"
          ]
        }
      ]
    },
    {
      "cell_type": "markdown",
      "metadata": {
        "id": "acrfbZ3jyANg"
      },
      "source": [
        "#### Дополнение конструктора родительского класса\n",
        "\n"
      ]
    },
    {
      "cell_type": "code",
      "source": [
        "class PaperBook:\n",
        "    def __init__(self, name: str):\n",
        "        self.name = name\n",
        "\n",
        "    def __str__(self):\n",
        "        return f'Книга \"{self.name}\"'\n",
        "\n",
        "\n",
        "class EBook(PaperBook):\n",
        "    def __init__(self, name: str):\n",
        "        self.format = \"pdf\"\n",
        "\n",
        "print(PaperBook(\"Букварь\"))\n",
        "...  # TODO инициализировать экземпляр электронной книги"
      ],
      "metadata": {
        "colab": {
          "base_uri": "https://localhost:8080/"
        },
        "id": "V3VxetB3pkft",
        "outputId": "9491bc47-0359-41ef-a8fd-9054738f56c6"
      },
      "execution_count": null,
      "outputs": [
        {
          "output_type": "stream",
          "name": "stdout",
          "text": [
            "Книга \"Букварь\"\n"
          ]
        },
        {
          "output_type": "execute_result",
          "data": {
            "text/plain": [
              "Ellipsis"
            ]
          },
          "metadata": {},
          "execution_count": 15
        }
      ]
    },
    {
      "cell_type": "markdown",
      "metadata": {
        "id": "EIUg410n0nps"
      },
      "source": [
        "```python\n",
        "class PaperBook:\n",
        "    def __init__(self, name: str):\n",
        "        self.name = name\n",
        "\n",
        "    def __str__(self):\n",
        "        return f'Книга \"{self.name}\"'\n",
        "\n",
        "\n",
        "class EBook(PaperBook):\n",
        "    def __init__(self, name: str):\n",
        "        super().__init__(name)  # вызываем конструктор базового класса\n",
        "        self.format = \"pdf\"\n",
        "\n",
        "print(EBook(\"Букварь\"))\n",
        "```\n",
        "Не важно с какими атрибутами вы работаете.  \n",
        "При наследовании и расширение конструктора базового класса  \n",
        "лучше перестраховаться и вызывать его, чтобы верно  \n",
        "проинициализировать ваш объект после наследования.\n",
        "\n",
        "Вы можете не знаете, что скрыто в конструкторе базового класса и  \n",
        "какие действия там выполняются.  \n",
        "Даже если и знаете, **то не нужно их повторно воспроизводить**!!  \n",
        "Вызывайте конструктор базового класса!\n",
        "\n"
      ]
    },
    {
      "cell_type": "markdown",
      "metadata": {
        "id": "XDI1f_wK4PVU"
      },
      "source": [
        "### Инкапсуляция при наследовании"
      ]
    },
    {
      "cell_type": "markdown",
      "source": [
        "```python\n",
        "# Что будет распечатано в результате выполнения данного кода?\n",
        "class BaseClass:\n",
        "    def __init__(self):\n",
        "        self.public_attr = \"public_attr\"\n",
        "        self._protected_attr = \"protected_attr\"\n",
        "        self.__private_attr = \"private_attr\"\n",
        "\n",
        "class SubClass(BaseClass):\n",
        "    def __init__(self):\n",
        "        print(self.__dict__)\n",
        "\n",
        "instance = SubClass()\n",
        "```"
      ],
      "metadata": {
        "id": "BecbE2XE3xcQ"
      }
    },
    {
      "cell_type": "code",
      "metadata": {
        "id": "phUv8O3B4OhP",
        "colab": {
          "base_uri": "https://localhost:8080/"
        },
        "outputId": "fbe29d49-14dc-4ea9-a24f-25504a2497a7"
      },
      "source": [
        "# Что будет распечатано в результате выполнения данного кода?\n",
        "class BaseClass:\n",
        "    def __init__(self):\n",
        "        self.public_attr = \"public_attr\"\n",
        "        self._protected_attr = \"protected_attr\"\n",
        "        self.__private_attr = \"private_attr\"\n",
        "\n",
        "class SubClass(BaseClass):\n",
        "    def __init__(self):\n",
        "        print(self.__dict__)\n",
        "\n",
        "instance = SubClass()"
      ],
      "execution_count": null,
      "outputs": [
        {
          "output_type": "stream",
          "name": "stdout",
          "text": [
            "{}\n"
          ]
        }
      ]
    },
    {
      "cell_type": "code",
      "metadata": {
        "id": "gNrivSiG4rGM",
        "colab": {
          "base_uri": "https://localhost:8080/"
        },
        "outputId": "02f4040a-d5bd-4e34-f0d2-5a0a164cf2f4"
      },
      "source": [
        "class BaseClass:\n",
        "    def __init__(self):\n",
        "        self.public_attr = \"public_attr\"\n",
        "        self._protected_attr = \"_protected_attr\"\n",
        "        self.__private_attr = \"__private_attr\"\n",
        "\n",
        "class SubClass(BaseClass):\n",
        "    def __init__(self):\n",
        "        super().__init__()\n",
        "        print(self.__dict__)\n",
        "\n",
        "instance = SubClass()"
      ],
      "execution_count": null,
      "outputs": [
        {
          "output_type": "stream",
          "name": "stdout",
          "text": [
            "{'public_attr': 'public_attr', '_protected_attr': '_protected_attr', '_BaseClass__private_attr': '__private_attr'}\n"
          ]
        }
      ]
    },
    {
      "cell_type": "markdown",
      "metadata": {
        "id": "SRsawfXF43fe"
      },
      "source": [
        "Объект **`SubClass`** не содержит приватный атрибут **__private_attr**.  \n",
        "У него есть только **_BaseClass__private_attr**\n",
        "\n",
        "***Непубличные (private) атрибуты не видны в производном классе***!!!"
      ]
    },
    {
      "cell_type": "markdown",
      "metadata": {
        "id": "A-ktORhHKR0Z"
      },
      "source": [
        "#### Private vs Protected"
      ]
    },
    {
      "cell_type": "markdown",
      "metadata": {
        "id": "-5kGKsW-KbWn"
      },
      "source": [
        "Возникает вопрос, а что выбрать private или protected?\n",
        "\n",
        "<img alt=\"https://app.diagrams.net/#G1THvPeLBNl6C2dmIjUHj_DlTwQr2Xp4vf\" src=\"https://drive.google.com/uc?id=1THvPeLBNl6C2dmIjUHj_DlTwQr2Xp4vf\"/>\n",
        "\n",
        "В большинстве случаев достаточно **protected**.\n",
        "\n",
        "Используйте **private** если хотите избежать конфликта имен  \n",
        "при наследовании."
      ]
    },
    {
      "cell_type": "markdown",
      "metadata": {
        "id": "oLvy_opY-8Zk"
      },
      "source": [
        "### Выводы\n",
        "1. Наследование — это главный механизм для повторного использования кода.\n",
        "1. При расширении конструктора производного класса  \n",
        "не забывайте вызывать конструктор базового класса с помощью `super()`\n",
        "1. Приватные атрибуты и методы не наследуются.\n"
      ]
    },
    {
      "cell_type": "markdown",
      "metadata": {
        "id": "agyX6lro6Wvb"
      },
      "source": [
        "## Полиморфизм"
      ]
    },
    {
      "cell_type": "markdown",
      "source": [
        "### Понятие полиморфизма. Перегрузка методов"
      ],
      "metadata": {
        "id": "eJrlIwmBcxZa"
      }
    },
    {
      "cell_type": "markdown",
      "metadata": {
        "id": "6wn0wySiCoME"
      },
      "source": [
        "**Полиморфизм** — реализация задач одной и той же идеи разными способами.  \n",
        "\n",
        "В нашем случае мы будем говорить про перегрузку методов.\n",
        "\n",
        "**Перегрузка методов** — один из способов реализации полиморфизма,  \n",
        "когда мы можем задать свою реализацию какого-либо метода в своём классе."
      ]
    },
    {
      "cell_type": "code",
      "source": [
        "class PaperBook:\n",
        "    def __init__(self, name: str):\n",
        "        self.name = name\n",
        "\n",
        "    def __str__(self):\n",
        "        return f'Книга \"{self.name}\"'  # TODO сделать Бумажная книга\n",
        "\n",
        "\n",
        "class EBook(PaperBook):\n",
        "    ...\n",
        "    # TODO перегрузить метод __str__, чтобы выводил Электронная книга\n",
        "\n",
        "\n",
        "print(PaperBook(\"Букварь\"))  # Бумажная книга \"Букварь\"\n",
        "print(EBook(\"Букварь\"))  # Электронная книга \"Букварь\""
      ],
      "metadata": {
        "colab": {
          "base_uri": "https://localhost:8080/"
        },
        "id": "hUAIyduYDlF2",
        "outputId": "39c0291f-a58f-4e87-b35c-f9e677444d08"
      },
      "execution_count": null,
      "outputs": [
        {
          "output_type": "stream",
          "name": "stdout",
          "text": [
            "Книга \"Букварь\"\n",
            "Книга \"Букварь\"\n"
          ]
        }
      ]
    },
    {
      "cell_type": "markdown",
      "source": [
        "### Перегрузка магического метода `__repr__`"
      ],
      "metadata": {
        "id": "xGgOUbcnQJ8C"
      }
    },
    {
      "cell_type": "code",
      "source": [
        "class Book:\n",
        "    \"\"\" Базовый класс книги. \"\"\"\n",
        "    def __init__(self, name: str):\n",
        "        self.name = name\n",
        "\n",
        "    def __repr__(self) -> str:\n",
        "        return f'{self.__class__.__name__}({self.name!r})'\n",
        "\n",
        "class PaperBook(Book):\n",
        "    \"\"\"Бумажная книга\"\"\"\n",
        "    def __init__(self, name: str):  # TODO добавить аргумент cover\n",
        "        super().__init__(name)\n",
        "        self.cover = \"Твердый переплет\"\n",
        "\n",
        "    # TODO перегрузить метод __repr__\n",
        "\n",
        "class EBook(Book):\n",
        "    \"\"\"Оцифрованная книга\"\"\"\n",
        "    def __init__(self, name: str):  # TODO добавить аргумент format\n",
        "        super().__init__(name)\n",
        "        self.format = \"pdf\"\n",
        "\n",
        "    # TODO перегрузить метод __repr__\n",
        "\n",
        "print(PaperBook(\"Букварь\"))  # PaperBook('Букварь', 'Твердый переплет')\n",
        "print(EBook(\"Букварь\"))  # EBook('Букварь', 'pdf')"
      ],
      "metadata": {
        "id": "GZ-TVX2A9yfy",
        "outputId": "9c4c3bdd-6531-4eb0-abbb-29952e05bd2e",
        "colab": {
          "base_uri": "https://localhost:8080/"
        }
      },
      "execution_count": null,
      "outputs": [
        {
          "output_type": "stream",
          "name": "stdout",
          "text": [
            "PaperBook('Букварь')\n",
            "EBook('Букварь')\n"
          ]
        }
      ]
    },
    {
      "cell_type": "markdown",
      "source": [
        "```python\n",
        "class Book:\n",
        "    \"\"\" Базовый класс книги. \"\"\"\n",
        "    def __init__(self, name: str):\n",
        "        self.name = name\n",
        "\n",
        "    def __repr__(self) -> str:\n",
        "        return f'{self.__class__.__name__}({self.name!r})'\n",
        "\n",
        "class PaperBook(Book):\n",
        "    \"\"\"Бумажная книга\"\"\"\n",
        "    def __init__(self, name: str, cover: str = \"Твердый переплет\"):\n",
        "        super().__init__(name)\n",
        "        self.cover = cover\n",
        "\n",
        "    def __repr__(self) -> str:\n",
        "        return f'{self.__class__.__name__}({self.name!r}, {self.cover!r})'\n",
        "    \n",
        "class EBook(Book):\n",
        "    \"\"\"Оцифрованная книга\"\"\"\n",
        "    def __init__(self, name: str, format: str = \"pdf\"):\n",
        "        super().__init__(name)\n",
        "        self.format = format\n",
        "\n",
        "    def __repr__(self) -> str:\n",
        "        return f'{self.__class__.__name__}({self.name!r}, {self.format!r})'\n",
        "```"
      ],
      "metadata": {
        "id": "D1m3SoiT--q2"
      }
    },
    {
      "cell_type": "markdown",
      "source": [
        "### Перегрузка магического метода `__eq__`"
      ],
      "metadata": {
        "id": "j-5qGUEC_tmt"
      }
    },
    {
      "cell_type": "code",
      "source": [
        "class Book:\n",
        "    def __init__(self, name: str):\n",
        "        self.name = name\n",
        "\n",
        "book_1 = Book(\"Букварь\")\n",
        "book_2 = Book(\"Букварь\")\n",
        "\n",
        "print(book_1 == book_2)  # False"
      ],
      "metadata": {
        "colab": {
          "base_uri": "https://localhost:8080/"
        },
        "id": "0THtdMR_A0Wo",
        "outputId": "8549e497-6a9f-40f1-d6eb-04d0cf634d84"
      },
      "execution_count": null,
      "outputs": [
        {
          "output_type": "stream",
          "name": "stdout",
          "text": [
            "False\n"
          ]
        }
      ]
    },
    {
      "cell_type": "code",
      "source": [
        "class Book:\n",
        "    def __init__(self, name: str):\n",
        "        self.name = name\n",
        "\n",
        "    def __eq__(self: Book, other: Book):\n",
        "        return self.name == other.name\n",
        "\n",
        "book_1 = Book(\"Букварь\")\n",
        "book_2 = Book(\"Букварь\")\n",
        "\n",
        "print(book_1 == book_2)  # book_1 - self, book_2 - other"
      ],
      "metadata": {
        "colab": {
          "base_uri": "https://localhost:8080/"
        },
        "id": "KIt-KyvcBh-X",
        "outputId": "b2d07d77-3b09-4005-aaf8-02bc006067c6"
      },
      "execution_count": null,
      "outputs": [
        {
          "output_type": "stream",
          "name": "stdout",
          "text": [
            "True\n"
          ]
        }
      ]
    },
    {
      "cell_type": "markdown",
      "metadata": {
        "id": "ORr5Y8ClEf2U"
      },
      "source": [
        "### Выводы:\n"
      ]
    },
    {
      "cell_type": "markdown",
      "metadata": {
        "id": "iprQNWaWElX5"
      },
      "source": [
        "1. Полиморфизм — реализация задач одной и той же идеи разными способами.\n",
        "1. Перегрузка методов — один из способов реализации полиморфизма,  \n",
        "когда мы можем задать свою реализацию какого-либо метода в своём классе.\n",
        "1. Перегрузка магических методов в Python – это возможность с помощью  \n",
        "специальных методов в классах переопределять различные операторы языка.\n",
        "1. Список магических методов. [На русском](https://pythonworld.ru/osnovy/peregruzka-operatorov.html). [Документация Python](https://docs.python.org/3/reference/datamodel.html#basic-customization)"
      ]
    }
  ]
}