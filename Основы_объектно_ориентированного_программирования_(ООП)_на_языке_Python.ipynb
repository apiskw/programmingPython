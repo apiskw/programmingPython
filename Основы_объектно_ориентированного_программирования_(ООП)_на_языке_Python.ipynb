{
  "nbformat": 4,
  "nbformat_minor": 0,
  "metadata": {
    "colab": {
      "provenance": [],
      "collapsed_sections": [
        "UwLFOdal40I8",
        "GNW6c5RpO50l",
        "T9rvMZBAWHl4",
        "08N-PTAIWOcO",
        "OZA3jZ1WbDFm",
        "wNkoVlT9DzRo",
        "WmMpxFP-qxfa",
        "FU6jrMamIh9c",
        "sqNl2Doql0RF"
      ],
      "include_colab_link": true
    },
    "kernelspec": {
      "name": "python3",
      "display_name": "Python 3"
    }
  },
  "cells": [
    {
      "cell_type": "markdown",
      "metadata": {
        "id": "view-in-github",
        "colab_type": "text"
      },
      "source": [
        "<a href=\"https://colab.research.google.com/github/apiskw/programmingPython/blob/main/%D0%9E%D1%81%D0%BD%D0%BE%D0%B2%D1%8B_%D0%BE%D0%B1%D1%8A%D0%B5%D0%BA%D1%82%D0%BD%D0%BE_%D0%BE%D1%80%D0%B8%D0%B5%D0%BD%D1%82%D0%B8%D1%80%D0%BE%D0%B2%D0%B0%D0%BD%D0%BD%D0%BE%D0%B3%D0%BE_%D0%BF%D1%80%D0%BE%D0%B3%D1%80%D0%B0%D0%BC%D0%BC%D0%B8%D1%80%D0%BE%D0%B2%D0%B0%D0%BD%D0%B8%D1%8F_(%D0%9E%D0%9E%D0%9F)_%D0%BD%D0%B0_%D1%8F%D0%B7%D1%8B%D0%BA%D0%B5_Python.ipynb\" target=\"_parent\"><img src=\"https://colab.research.google.com/assets/colab-badge.svg\" alt=\"Open In Colab\"/></a>"
      ]
    },
    {
      "cell_type": "markdown",
      "metadata": {
        "id": "mLBudgBKS277"
      },
      "source": [
        " # Основы объектно-ориентированного программирования (ООП) на языке Python"
      ]
    },
    {
      "cell_type": "markdown",
      "metadata": {
        "id": "vxXPtoWOTwie"
      },
      "source": [
        "## Базовые понятия объектно-ориентированного программирования"
      ]
    },
    {
      "cell_type": "markdown",
      "metadata": {
        "id": "UwLFOdal40I8"
      },
      "source": [
        "### Логика модели на основе функционального подхода"
      ]
    },
    {
      "cell_type": "markdown",
      "metadata": {
        "id": "N-D69JeyBb6v"
      },
      "source": [
        "Один из способов выстраивания логики программы это **функциональный подход**.  \n",
        "Это такой способ написания программ,  \n",
        "когда всё складывается из отдельных функций."
      ]
    },
    {
      "cell_type": "markdown",
      "metadata": {
        "id": "11PtEJd6T5z-"
      },
      "source": [
        "Давайте запрограммируем модель книги.  \n",
        "<img src=\"https://media.proglib.io/wp-uploads/-000//1/08716001.cover_max1500.jpg\" alt=\"Пример книги\" width=250 />\n",
        "\n",
        "1. Какой тип данных в python можно использовать, чтобы описать книгу?\n",
        "1. Какие действия можно производить с книгой?\n"
      ]
    },
    {
      "cell_type": "markdown",
      "metadata": {
        "id": "GNW6c5RpO50l"
      },
      "source": [
        "#### Проблемы функционального подхода"
      ]
    },
    {
      "cell_type": "markdown",
      "metadata": {
        "id": "vS3i-YXoPBOf"
      },
      "source": [
        "Если собрать всё в кучу, то мы имеем следующую картину:\n",
        "```python\n",
        "# данные\n",
        "book = {\n",
        "    'author' : \"Пушкин А. С.\",  # автор\n",
        "    'pages' : 500  # количество страниц\n",
        "}\n",
        "\n",
        "\n",
        "# Функции, оперирующие с моделью книги\n",
        "def read_book(book: dict) -> None:\n",
        "    \"\"\" Чтение книги. \"\"\"\n",
        "    ...\n",
        "```\n"
      ]
    },
    {
      "cell_type": "markdown",
      "metadata": {
        "id": "-hIyRwTDQkx8"
      },
      "source": [
        "***Проблема***:  \n",
        "Функция `read_book` и модель книги в виде словаря `book`  \n",
        "отделены друг от друга.  \n",
        "\n",
        "Из **исходного кода** программы неизвестно какие функции  \n",
        "можно использовать для работы с книгой.  \n",
        "Нет строгой привязки исходного кода к логике работы."
      ]
    },
    {
      "cell_type": "markdown",
      "metadata": {
        "id": "ylVKqZWr9bMR"
      },
      "source": [
        "### Объектно-ориентированный подход"
      ]
    },
    {
      "cell_type": "markdown",
      "metadata": {
        "id": "cuu9ThSO-4m-"
      },
      "source": [
        "Язык Python является **мультипарадигменным** языком.  \n",
        "\n",
        "**Парадигма программирования** — это совокупность идей и понятий,  \n",
        "определяющих стиль написания компьютерных программ.\n"
      ]
    },
    {
      "cell_type": "markdown",
      "metadata": {
        "id": "rrsHmwrr9zkL"
      },
      "source": [
        "**Объектно-ориентированное программирование** - это парадигма программирования,  \n",
        "основанная на совместном описании данных и операций,  \n",
        "оперирующих с этими данными."
      ]
    },
    {
      "cell_type": "markdown",
      "metadata": {
        "id": "Umm5ihegCy3q"
      },
      "source": [
        "> Попробуем написать код, думая о его ремонтопригодности,  \n",
        "а не только о том, чтобы он «работал!».  \n",
        "Код, который поймёт и сможет поддерживать любой  \n",
        "(разумеется любой, кто знаком с программированием)\n",
        "\n"
      ]
    },
    {
      "cell_type": "markdown",
      "metadata": {
        "id": "gzCfCBsbD-rK"
      },
      "source": [
        "Совместное описание данных и операций можно  \n",
        "делать в Python с помощью словарей,  \n",
        "но, конечно, необходимо использовать объектно-ориентированный синтаксис."
      ]
    },
    {
      "cell_type": "markdown",
      "metadata": {
        "id": "wyi9v_taEJz2"
      },
      "source": [
        "Следует использовать следующий синтаксис:\n",
        "```python\n",
        "class Book:  #  по PEP8 название класса пишется с заглавной буквы\n",
        "    def __init__(self, author: str, pages: int):\n",
        "        # данные о книге\n",
        "        self.author = author  # автор\n",
        "        self.pages = pages  # количество страниц\n",
        "\n",
        "    def read_book(self) -> None:  # вместо аргумента book, аргумент self\n",
        "        \"\"\" Чтение книги. \"\"\"\n",
        "        ...\n",
        "```\n",
        "\n",
        "Теперь данные и функции определены совместно."
      ]
    },
    {
      "cell_type": "code",
      "source": [
        "class Book:  #  по PEP8 название класса пишется с заглавной буквы\n",
        "    def __init__(self, author: str, pages: int):\n",
        "        # данные о книге\n",
        "        self.author = author  # автор\n",
        "        self.pages = pages  # количество страниц\n",
        "\n",
        "    def read_book(self) -> None:  # вместо аргумента book, аргумент self\n",
        "        \"\"\" Чтение книги. \"\"\"\n",
        "        ..."
      ],
      "metadata": {
        "id": "EDhGOyqoNBq5"
      },
      "execution_count": null,
      "outputs": []
    },
    {
      "cell_type": "markdown",
      "source": [
        "## Класс и экземпляр класса"
      ],
      "metadata": {
        "id": "dS4atDOYL8tn"
      }
    },
    {
      "cell_type": "markdown",
      "metadata": {
        "id": "EZKPtF5eHPNm"
      },
      "source": [
        "### Понятие класса и экземпляра класса"
      ]
    },
    {
      "cell_type": "markdown",
      "metadata": {
        "id": "PP88TiU1JQMU"
      },
      "source": [
        "Класс - это **станок**, который в дальнейшем печатает книги.  \n",
        "Матрица станка описывает прообраз книги, т.е. её характеристики, размеры, параметры, ...  \n",
        "<img src=\"https://sun9-84.userapi.com/impf/c831408/v831408882/11df9f/Cxarkh0_P6o.jpg?size=389x461&quality=96&sign=b8ad37dcad8b741ee5039d6ab2c1e8b6&type=album\" alt=\"Печатный станок\" width=250 />\n",
        "\n",
        "Объект - готовая книга, напечатанная станком.  \n",
        "<img src=\"https://offset.moscow/wp-content/uploads/2022/p293364181-pechat-knig/pechat-knig-v-tipografii.jpg\" alt=\"Книги\" width=500 />\n",
        "\n",
        "Станок - один, изделий - много."
      ]
    },
    {
      "cell_type": "markdown",
      "metadata": {
        "id": "ngx1B6JPKWKT"
      },
      "source": [
        "<img src=\"https://drive.google.com/uc?id=1hh1LAYoYxPHdF488WwOA9tvK35IHYbIh\"/>\n",
        "\n",
        "С точки зрения ООП **класс** (англ. class) -  \n",
        "это тип данных с описанием атрибутов, методов и свойств.\n"
      ]
    },
    {
      "cell_type": "markdown",
      "metadata": {
        "id": "sCuCuUXCMHcI"
      },
      "source": [
        "### Создание класса"
      ]
    },
    {
      "cell_type": "markdown",
      "metadata": {
        "id": "FrYFwbofFyC7"
      },
      "source": [
        "```python\n",
        "class Book:\n",
        "    ...\n",
        "```\n",
        "* Ключевое слово **`class`**.  \n",
        "Данное ключевое слово указывает интерпретатору Python,  \n",
        "что далее следует определение класса.\n",
        "*  Имя класса `Book`.  \n",
        "Разработчик может выбрать любое имя.  \n",
        "Желательно придерживаясь соглашения по именованию классов. См. [PEP8](https://pythonworld.ru/osnovy/pep-8-rukovodstvo-po-napisaniyu-koda-na-python.html#section-23)"
      ]
    },
    {
      "cell_type": "markdown",
      "metadata": {
        "id": "pZ3M-hdJMzkY"
      },
      "source": [
        "Определение класса - это описание внутренних переменных,  \n",
        "которые называются атрибутами, и функций, которые называются методами.\n",
        "\n",
        "- **Атрибуты** - в общем смысле это обычные переменные,  \n",
        "только они относятся к объектам определенного типа.\n",
        "- **Методы** -  в общем смысле это обычные функции,  \n",
        "только они относятся к объектам определенного типа."
      ]
    },
    {
      "cell_type": "markdown",
      "metadata": {
        "id": "Ma2qj9UhNhSC"
      },
      "source": [
        "***Методы***\n",
        "```python\n",
        "str_ = \"string\"\n",
        "str_.split()  # split - метод строки\n",
        "\n",
        "list_ = [1, 5, 3, 7]\n",
        "list_.sort()  # sort - метод списка\n",
        "```"
      ]
    },
    {
      "cell_type": "markdown",
      "metadata": {
        "id": "H_G5IhXFXZ8u"
      },
      "source": [
        "***Атрибуты и методы `Book`***\n",
        "```python\n",
        "class Book:\n",
        "    def __init__(self, author: str, pages: int):\n",
        "        # данные о книге\n",
        "        self.author = author  # self.author атрибут\n",
        "        self.pages = pages  # self.pages атрибут\n",
        "\n",
        "    # read_book метод\n",
        "    def read_book(self) -> None:\n",
        "        \"\"\" Чтение книги. \"\"\"\n",
        "        ...\n",
        "```"
      ]
    },
    {
      "cell_type": "markdown",
      "metadata": {
        "id": "ZRigZa-oYTIz"
      },
      "source": [
        "### Создание экземпляра класса"
      ]
    },
    {
      "cell_type": "markdown",
      "metadata": {
        "id": "GOG4bakusCIj"
      },
      "source": [
        "За создание **экземпляра класса** (его инициализацию)  \n",
        "отвечает специальный метод `__init__`.  \n",
        "Данный метод предназначен для инициализации объекта  \n",
        "(экземпляра класса) данного класса.  \n",
        "Он подготавливает объект к использованию.\n",
        "\n",
        "```python\n",
        "class Book:\n",
        "    def __init__(self):  # Подготовка созданного объекта к использованию\n",
        "        self.author = \"Пушкин А. С.\"  # self.author атрибут\n",
        "        self.pages = 500  # self.pages атрибут\n",
        "```"
      ]
    },
    {
      "cell_type": "markdown",
      "metadata": {
        "id": "Yn5mh3dUXdrL"
      },
      "source": [
        "Специальный метод `__init__` **не должен** возвращать никакой результат!!!  \n",
        "Его задача подготовить экземпляр к дальнейшей работе с ним.  \n",
        "Если хотите - наполнить экземпляр данными."
      ]
    },
    {
      "cell_type": "markdown",
      "metadata": {
        "id": "7Oh026oxttx3"
      },
      "source": [
        "Чтобы создать **экземпляр** класса, нужно после названия класса  \n",
        "указать круглые скобки\n",
        "```python\n",
        "Book()\n",
        "```\n",
        "Всё по аналогии с вызовом функции.\n"
      ]
    },
    {
      "cell_type": "code",
      "metadata": {
        "id": "eTeF3YhxtEQE",
        "colab": {
          "base_uri": "https://localhost:8080/"
        },
        "outputId": "93b5631d-daee-4637-9d44-172b044bf8ca"
      },
      "source": [
        "class Book:\n",
        "    def __init__(self):  # Подготовка созданного объекта к использованию\n",
        "        self.author = \"Пушкин А. С.\"  # self.author атрибут\n",
        "        ...  # TODO добавить атрибут pages\n",
        "\n",
        "\n",
        "# Объекты класса Glass, готовые к использованию\n",
        "book_1 = Book()  # вызывается __init__\n",
        "...  # TODO инициализировать второй экземпляр book_2 класса Glass\n",
        "\n",
        "print(book_1)\n",
        "print(...)  # TODO распечатать экземпляр book_2"
      ],
      "execution_count": null,
      "outputs": [
        {
          "output_type": "stream",
          "name": "stdout",
          "text": [
            "<__main__.Book object at 0x7f789dfce050>\n",
            "Ellipsis\n"
          ]
        }
      ]
    },
    {
      "cell_type": "markdown",
      "metadata": {
        "id": "BsCRH9DQomDh"
      },
      "source": [
        "<img alt=\"https://app.diagrams.net/#G1KO9qZ0tlzo0Z0s_2IoWAggU_Ic3DbRyc\" src=\"https://drive.google.com/uc?id=1KO9qZ0tlzo0Z0s_2IoWAggU_Ic3DbRyc\"/>"
      ]
    },
    {
      "cell_type": "markdown",
      "metadata": {
        "id": "zdQft_EK61eR"
      },
      "source": [
        "***Аналогия с производством***\n",
        "\n",
        "<img alt=\"https://app.diagrams.net/#G1gqkQ1kWYzpYcRiri_s0vz0Ueau9StJsG\" src=\"https://drive.google.com/uc?id=1gqkQ1kWYzpYcRiri_s0vz0Ueau9StJsG\"/>"
      ]
    },
    {
      "cell_type": "markdown",
      "metadata": {
        "id": "AwEJ4IU_7HqB"
      },
      "source": [
        "Для создания объекта интерпретатор Python выделяет память под объект  \n",
        "и вызывает специальный метод `__init__`.  \n",
        "\n",
        "В этом методе разработчик описывает все действия,  \n",
        "которые необходимы для создания объекта.  \n",
        "\n",
        "В качестве \"болванки\" выступает специальная переменная `self` в методе `__init__`."
      ]
    },
    {
      "cell_type": "markdown",
      "metadata": {
        "id": "T9rvMZBAWHl4"
      },
      "source": [
        "#### Объекты в Python. Функция `type`"
      ]
    },
    {
      "cell_type": "markdown",
      "metadata": {
        "id": "_8uCroAv91Ay"
      },
      "source": [
        "Встроенная функция `type` позволяет получить тип переданного ей объекта,  \n",
        "иначе говоря класс, от которого был создан данный объект.\n",
        "```python\n",
        "type(object_)  # тип переданного ей объекта\n",
        "```"
      ]
    },
    {
      "cell_type": "code",
      "metadata": {
        "id": "CKxSlxup-Pqe",
        "colab": {
          "base_uri": "https://localhost:8080/"
        },
        "outputId": "1492ab4f-56cd-483c-c63f-635fbb027a04"
      },
      "source": [
        "# Все встроенные типы данных в python - это тоже объекты\n",
        "print(type(1))\n",
        "print(type(\"str\"))\n",
        "print(type(None))"
      ],
      "execution_count": null,
      "outputs": [
        {
          "output_type": "stream",
          "name": "stdout",
          "text": [
            "<class 'int'>\n",
            "<class 'str'>\n",
            "<class 'NoneType'>\n"
          ]
        }
      ]
    },
    {
      "cell_type": "markdown",
      "source": [
        "Python является объектно-ориентированным языком программирования.  \n",
        "В Python всё является объектами.  "
      ],
      "metadata": {
        "id": "11TxjyUhYaio"
      }
    },
    {
      "cell_type": "code",
      "metadata": {
        "id": "QcFt8c6Q-zZ2",
        "colab": {
          "base_uri": "https://localhost:8080/"
        },
        "outputId": "83f177cc-1a5d-402d-a447-9432cda4b5cc"
      },
      "source": [
        "# даже функции в python это тоже объекты\n",
        "def func():\n",
        "    ...\n",
        "\n",
        "print(type(func))"
      ],
      "execution_count": null,
      "outputs": [
        {
          "output_type": "stream",
          "name": "stdout",
          "text": [
            "<class 'function'>\n"
          ]
        }
      ]
    },
    {
      "cell_type": "markdown",
      "source": [
        "Даже класс - это объект 🤯"
      ],
      "metadata": {
        "id": "kJ4D7nV-YsjO"
      }
    },
    {
      "cell_type": "code",
      "metadata": {
        "id": "-7HUz5dA9d5c",
        "colab": {
          "base_uri": "https://localhost:8080/"
        },
        "outputId": "c1bcea49-745e-474f-de62-545a60d8fda7"
      },
      "source": [
        "class Book:  # описываем класс\n",
        "    ...\n",
        "\n",
        "book = Book()  # инициализируем экземпляр класса\n",
        "\n",
        "print(book)  # печатаем экземпляр класса\n",
        "print(type(book))  # печатаем тип экземпляра класса\n",
        "\n",
        "# класс в Python это тоже объект типа type\n",
        "print(type(Book))  # печатаем тип самого класса"
      ],
      "execution_count": null,
      "outputs": [
        {
          "output_type": "stream",
          "name": "stdout",
          "text": [
            "<__main__.Book object at 0x7f789dfd9050>\n",
            "<class '__main__.Book'>\n",
            "<class 'type'>\n"
          ]
        }
      ]
    },
    {
      "cell_type": "markdown",
      "metadata": {
        "id": "08N-PTAIWOcO"
      },
      "source": [
        "#### Сравнение типов объектов. Функция `isinstance`"
      ]
    },
    {
      "cell_type": "markdown",
      "metadata": {
        "id": "Oa_1InFs9OBM"
      },
      "source": [
        "**Встроенная** функция `isinstance` позволяет проверить является ли указанный  \n",
        "объект определенного типа или экземпляром какого-то класса. См. [PEP8](https://pythonworld.ru/osnovy/pep-8-rukovodstvo-po-napisaniyu-koda-na-python.html)\n",
        "```python\n",
        "isinstance(object_, type_)\n",
        "```"
      ]
    },
    {
      "cell_type": "code",
      "metadata": {
        "id": "aqRIyvyV_zO6",
        "colab": {
          "base_uri": "https://localhost:8080/"
        },
        "outputId": "1176afd2-e2ff-4b7f-cb56-56cd616637f3"
      },
      "source": [
        "# проверка что объет является списком\n",
        "a = [1, 2, 3]\n",
        "print(isinstance(a, list))"
      ],
      "execution_count": null,
      "outputs": [
        {
          "output_type": "stream",
          "name": "stdout",
          "text": [
            "True\n"
          ]
        }
      ]
    },
    {
      "cell_type": "code",
      "metadata": {
        "id": "CYWZx2pbVrvi",
        "colab": {
          "base_uri": "https://localhost:8080/"
        },
        "outputId": "dcb1465d-f511-4323-fce2-233dd120b096"
      },
      "source": [
        "# особый случай - проверка что объет является объектом класса NoneType\n",
        "b = None\n",
        "print(isinstance(b, type(None)))"
      ],
      "execution_count": null,
      "outputs": [
        {
          "output_type": "stream",
          "name": "stdout",
          "text": [
            "True\n"
          ]
        }
      ]
    },
    {
      "cell_type": "code",
      "metadata": {
        "id": "cYEoiEMK_5ql",
        "colab": {
          "base_uri": "https://localhost:8080/"
        },
        "outputId": "5b1e953a-02d3-401e-f3e4-14734e42545b"
      },
      "source": [
        "# isinstance умеет проверять принадлежность сразу нескольким классам\n",
        "int_num = 1\n",
        "float_num = 2.0\n",
        "\n",
        "print(isinstance(int_num, (int, float)))\n",
        "print(isinstance(float_num, (int, float)))"
      ],
      "execution_count": null,
      "outputs": [
        {
          "output_type": "stream",
          "name": "stdout",
          "text": [
            "True\n",
            "True\n"
          ]
        }
      ]
    },
    {
      "cell_type": "code",
      "metadata": {
        "id": "06vumlGqWTPE",
        "colab": {
          "base_uri": "https://localhost:8080/"
        },
        "outputId": "5fdc1d7d-0ecc-4881-9f6e-0a030518e702"
      },
      "source": [
        "class Book:  # описываем класс\n",
        "    ...\n",
        "\n",
        "book = Book()  # инициализируем экземпляр класса\n",
        "\n",
        "print(isinstance(book, Book))  # сравниваем с классом"
      ],
      "execution_count": null,
      "outputs": [
        {
          "output_type": "stream",
          "name": "stdout",
          "text": [
            "True\n"
          ]
        }
      ]
    },
    {
      "cell_type": "markdown",
      "metadata": {
        "id": "sUa6bFHP8C1h"
      },
      "source": [
        "### Выводы\n",
        "\n",
        "1. Класс - это тип с описанием  **атрибутов** (внутренних переменных) и **методов** (внутренних функций)\n",
        "2. Метод `__init__` не должен возвращать никакой результат.\n",
        "3. Разработчик не передаёт переменную `self` при создании объекта.\n",
        "4. Экземпляр класса или объект - это представление в памяти конкретного класса  \n",
        "с **его** атрибутами и методами, сконфигурированного по описанию,  \n",
        "заложенному в конструкторе."
      ]
    },
    {
      "cell_type": "markdown",
      "metadata": {
        "id": "70k21orUhwNw"
      },
      "source": [
        "## Атрибуты и методы экземпляра класса"
      ]
    },
    {
      "cell_type": "markdown",
      "metadata": {
        "id": "OZA3jZ1WbDFm"
      },
      "source": [
        "### Атрибуты экземпляра класса"
      ]
    },
    {
      "cell_type": "markdown",
      "metadata": {
        "id": "10UDfQ5IicFm"
      },
      "source": [
        "Доступ к атрибутам экземпляра класса осуществляется двумя способами:\n",
        "```python\n",
        "class SomeClass:\n",
        "    def __init__(self):\n",
        "        self.attr = 500  # через переменную self\n",
        "```\n",
        "\n",
        "```python\n",
        "instance = SomeClass()\n",
        "instance.attr  # для уже созданного экземпляра\n",
        "```\n"
      ]
    },
    {
      "cell_type": "markdown",
      "metadata": {
        "id": "FU-iXop3nf8m"
      },
      "source": [
        "Вернемся к книге"
      ]
    },
    {
      "cell_type": "code",
      "metadata": {
        "id": "gwPT9VvWcnqc",
        "colab": {
          "base_uri": "https://localhost:8080/"
        },
        "outputId": "39da2b88-4cd8-4d2d-e2ac-fced0bb4f838"
      },
      "source": [
        "class Book:\n",
        "    def __init__(self, author: str, pages: int):\n",
        "        self.author = author  # автор\n",
        "        self.pages = pages  # количество страниц\n",
        "\n",
        "book_1 = Book(\"Пушкин А. С.\", 500)\n",
        "book_2 = Book(\"Лермонтов М. Ю.\", 400)\n",
        "\n",
        "# печатаем атрибуты книг\n",
        "print(book_1.author, book_1.pages)\n",
        "print(book_2.author, book_2.pages)"
      ],
      "execution_count": null,
      "outputs": [
        {
          "output_type": "stream",
          "name": "stdout",
          "text": [
            "Пушкин А. С. 500\n",
            "Лермонтов М. Ю. 400\n"
          ]
        }
      ]
    },
    {
      "cell_type": "code",
      "source": [
        "# меняем значения атрибутов\n",
        "book_1.author = book_1.author.upper()  # меняем знаечние атрибута author экземпляра book_1\n",
        "print(book_1.author, book_1.pages)\n",
        "print(book_2.author, book_2.pages)"
      ],
      "metadata": {
        "colab": {
          "base_uri": "https://localhost:8080/"
        },
        "id": "wJbPnCLgYVZL",
        "outputId": "0225aa3c-4563-459c-c356-a6a27f8de26c"
      },
      "execution_count": null,
      "outputs": [
        {
          "output_type": "stream",
          "name": "stdout",
          "text": [
            "ПУШКИН А. С. 500\n",
            "Лермонтов М. Ю. 400\n"
          ]
        }
      ]
    },
    {
      "cell_type": "markdown",
      "metadata": {
        "id": "uFHMkDzl-C5F"
      },
      "source": [
        "### Методы экземпляра класса"
      ]
    },
    {
      "cell_type": "markdown",
      "metadata": {
        "id": "N2gA2NIJCdc1"
      },
      "source": [
        "Доступ к методам экземпляра класса осуществляется двумя способами:\n",
        "```python\n",
        "class SomeClass:\n",
        "    def __init__(self):\n",
        "        self.some_method()  # через переменную self\n",
        "\n",
        "    def some_method(self):\n",
        "        ...\n",
        "```\n",
        "\n",
        "```python\n",
        "instance = SomeClass()\n",
        "instance.some_method()  # для уже созданного экземпляра\n",
        "```\n",
        "\n",
        "Заметьте, что метод экземпляра класса всегда первым аргументом  \n",
        "принимает ссылку на экземпляр класса.  \n",
        "Но при вызове самого метода мы в явном виде не указываем его!  \n",
        "Потому что этот метод вызывается либо от self либо от экземпляра,  \n",
        "то есть мы всегда однозначно знаем кому объекту принадлежит этот метод.\n"
      ]
    },
    {
      "cell_type": "markdown",
      "metadata": {
        "id": "wNkoVlT9DzRo"
      },
      "source": [
        "#### Аргумент `self`"
      ]
    },
    {
      "cell_type": "markdown",
      "metadata": {
        "id": "O4ImBJaj-PMq"
      },
      "source": [
        "Давайте чуть глубже разберемся с переменной `self`.  "
      ]
    },
    {
      "cell_type": "code",
      "metadata": {
        "id": "2g9MSrHfCCMI",
        "colab": {
          "base_uri": "https://localhost:8080/"
        },
        "outputId": "4f0593c9-c751-4a60-cbf6-addf951a4d63"
      },
      "source": [
        "class Book:\n",
        "    def get_self(self):\n",
        "        \"\"\"Метод, который возвращает self\"\"\"\n",
        "        return self\n",
        "\n",
        "\n",
        "book = Book()\n",
        "\n",
        "print(book is book.get_self())  # True"
      ],
      "execution_count": null,
      "outputs": [
        {
          "output_type": "stream",
          "name": "stdout",
          "text": [
            "True\n"
          ]
        }
      ]
    },
    {
      "cell_type": "markdown",
      "metadata": {
        "id": "nMvAT4KgG7cn"
      },
      "source": [
        "<img alt=\"https://app.diagrams.net/#G1E1JqhZZoOjAluNjF_EJl9j4__bI_fLQF\" src=\"https://drive.google.com/uc?id=1E1JqhZZoOjAluNjF_EJl9j4__bI_fLQF\"/>"
      ]
    },
    {
      "cell_type": "markdown",
      "metadata": {
        "id": "fbrPXWPXCcB0"
      },
      "source": [
        "Если заметить `self` на другое название переменной, то ничего не поменяется.  \n",
        "`self` - это просто **соглашение** об именовании переменных в Python\n",
        "\n",
        "```python\n",
        "class Book:\n",
        "    def __init__(other_self):  # другое название вместо self\n",
        "        ...\n",
        "\n",
        "    def some_method(bad_name):  # другое название вместо self\n",
        "        ...\n",
        "```\n",
        "\n",
        "Интерпретатору Python абсолютно неважно как называется  \n",
        "первая переменная в методе.  \n",
        "А как известно, названия аргументов функций и методов выбирает программист."
      ]
    },
    {
      "cell_type": "markdown",
      "metadata": {
        "id": "4GzWpVWtJiqG"
      },
      "source": [
        "Интерпретатор сам передаёт в качестве первого аргумента функции  \n",
        "ссылку на объект с которым работает.\n",
        "\n",
        "```python\n",
        "class Book:\n",
        "    def __init__(self):\n",
        "        self.some_method()  # не передаем self в метод some_method\n",
        "\n",
        "    def some_method(self):\n",
        "        ...\n",
        "\n",
        "\n",
        "book = Book()  # не передаем self в метод __init__\n",
        "book.some_method()  # не передаем self в метод some_method\n",
        "```"
      ]
    },
    {
      "cell_type": "markdown",
      "metadata": {
        "id": "Tad3cpl7Pvr2"
      },
      "source": [
        "#### Методы с аргументами. Согласованность данных"
      ]
    },
    {
      "cell_type": "markdown",
      "source": [
        "Попробуем иницализировать книгу и через  \n",
        "атрибут `last_read_page` установить последнюю прочитанную страницу"
      ],
      "metadata": {
        "id": "YQ_O41DbcKmv"
      }
    },
    {
      "cell_type": "code",
      "source": [
        "class Book:\n",
        "    def __init__(self):\n",
        "        self.pages = 500\n",
        "        self.last_read_page = 0  # последняя прочитанная страница\n",
        "\n",
        "book = Book()\n",
        "book.last_read_page += 200  # чем плох данный изменения атрибута?"
      ],
      "metadata": {
        "id": "shY19lBI5lHn"
      },
      "execution_count": null,
      "outputs": []
    },
    {
      "cell_type": "code",
      "source": [
        "class Book:\n",
        "    def __init__(self):\n",
        "        self.pages = 500\n",
        "        self.last_read_page = 0  # последняя прочитанная страница\n",
        "\n",
        "    # TODO написать метод increment_last_read_page\n",
        "\n",
        "\n",
        "book = Book()\n",
        "# TODO вызвать метод increment_last_read_page"
      ],
      "metadata": {
        "id": "fpy_v7AYcqJl"
      },
      "execution_count": null,
      "outputs": []
    },
    {
      "cell_type": "markdown",
      "source": [
        "```python\n",
        "class Book:\n",
        "    def __init__(self):\n",
        "        self.pages = 500\n",
        "        self.last_read_page = 0  # последняя прочитанная страница\n",
        "\n",
        "    def increment_last_read_page(self, read_pages: int):\n",
        "        \"\"\"\n",
        "        Метод увеличивает последнюю прочитанную страницу.\n",
        "\n",
        "        :param read_pages: Количество прочитанных страниц\n",
        "        \"\"\"\n",
        "        self.last_read_page += read_pages\n",
        "\n",
        "\n",
        "book = Book()\n",
        "book.increment_last_read_page(200)\n",
        "```\n",
        "Вроде лучше не стало, всё равно мы   \n",
        "не застрахованы от работы с некорректными случаями :(\n",
        "\n",
        "Но зато\n",
        "1. Код стал очевиднее.  \n",
        "    Вместо того, чтобы выполнять сложение, мы вызываем метод,  \n",
        "    который увеличивает последнюю прочитанную страницу.\n",
        "1. В методе, так как это функция,  \n",
        "можно записать все необходимые проверки по мере необходимости.  \n",
        "    Такую реализацию можно назвать \"ленивой\"."
      ],
      "metadata": {
        "id": "L6o0tGI2dCc5"
      }
    },
    {
      "cell_type": "code",
      "metadata": {
        "id": "wEfyCDfWQV1k"
      },
      "source": [
        "class Book:\n",
        "    def __init__(self):\n",
        "        self.pages = 500\n",
        "        self.last_read_page = 0  # последняя прочитанная страница\n",
        "\n",
        "    def increment_last_read_page(self, read_pages: int):\n",
        "        \"\"\"\n",
        "        Метод увеличивает последнюю прочитанную страницу.\n",
        "\n",
        "        :param read_pages: Количество прочитанных страниц\n",
        "        \"\"\"\n",
        "        # TODO Написать проверки для аргумента read_pages\n",
        "\n",
        "        # и только после всех проверок\n",
        "        self.last_read_page += read_pages\n",
        "\n",
        "\n",
        "book = Book()\n",
        "book.increment_last_read_page(200)"
      ],
      "execution_count": null,
      "outputs": []
    },
    {
      "cell_type": "markdown",
      "source": [
        "```python\n",
        "class Book:\n",
        "    def __init__(self):\n",
        "        self.pages = 500\n",
        "        self.last_read_page = 0  # последняя прочитанная страница\n",
        "\n",
        "    def increment_last_read_page(self, read_pages: int):\n",
        "        \"\"\"\n",
        "        Метод увеличивает последнюю прочитанную страницу.\n",
        "\n",
        "        :param read_pages: Количество прочитанных страниц\n",
        "        \"\"\"\n",
        "        if not isinstance(read_pages, int):  # проверяем, что прочитанные страницы типа int  \n",
        "            raise TypeError(\"Прочитанные страницы должны быть типа int\")  # вызываем ошибку\n",
        "\n",
        "        if read_pages < 0:\n",
        "            raise ValueError(\"Прочитанные страницы должны быть положительным числом\")\n",
        "        \n",
        "        # и только после всех проверок\n",
        "        self.last_read_page += read_pages\n",
        "\n",
        "\n",
        "book = Book()\n",
        "book.increment_last_read_page(200)\n",
        "```\n"
      ],
      "metadata": {
        "id": "E0SMtnhCsMno"
      }
    },
    {
      "cell_type": "markdown",
      "metadata": {
        "id": "Wf-E_FBRQKRT"
      },
      "source": [
        "### Выводы\n",
        "\n",
        "1. Переменная `self` является ссылкой на экземпляр данного класса.  \n",
        "`self` - это просто соглашение об именовании переменных в Python\n",
        "1. Экземпляр класса, или объект (англ. instance) — это представление в памяти  \n",
        "конкретного класса с переменными, свойствами и методами,  \n",
        "сконструированного по описанию, заложенному в классе.\n",
        "1.Согласованность данных (иногда консистентность данных) —  \n",
        "согласованность данных друг с другом, целостность данных,  \n",
        "а также внутренняя непротиворечивость.\n",
        "1.Поддержание согласованности данных внутри  \n",
        "экземпляра класса это задача разработчика класса.\n",
        "1.При разработке лучше сначала воспользоваться ленивой реализацией,  \n",
        "а затем дополнить всеми необходимыми проверками."
      ]
    },
    {
      "cell_type": "markdown",
      "metadata": {
        "id": "KZJUvgHTR4BL"
      },
      "source": [
        "##  Время жизни объекта"
      ]
    },
    {
      "cell_type": "markdown",
      "metadata": {
        "id": "WmMpxFP-qxfa"
      },
      "source": [
        "### Конструктор объекта (`__init__`)"
      ]
    },
    {
      "cell_type": "markdown",
      "metadata": {
        "id": "yO7MThCVSHFU"
      },
      "source": [
        "Время жизни объекта - это время с момента создания объекта до его уничтожения.  \n",
        "Объект начинает существовать после успешного завершения `__init__`.  \n",
        "\n",
        "Конструктор не является обязательным условием при написании класса.\n",
        "```python\n",
        "class Book:\n",
        "    ...\n",
        "\n",
        "book = Book()\n",
        "```\n"
      ]
    },
    {
      "cell_type": "code",
      "source": [
        "class Book:\n",
        "    ...\n",
        "\n",
        "book = Book()"
      ],
      "metadata": {
        "id": "YSrhBpyYsj6u"
      },
      "execution_count": null,
      "outputs": []
    },
    {
      "cell_type": "markdown",
      "source": [
        "```python\n",
        "class Book:\n",
        "    def __init__(self, pages: int):\n",
        "        if not isinstance(pages, int):\n",
        "            raise TypeError(\"Количество страниц должно быть типа int\")\n",
        "        if pages <= 0:\n",
        "            raise ValueError(\"Количество страниц должно быть положительным числом\")\n",
        "        self.pages = pages\n",
        "\n",
        "book_1 = Book(500)  # OK\n",
        "book_2 = Book(\"str\")  # TypeError\n",
        "book_3 = Book(-200)  # ValueError\n",
        "```\n",
        "\n",
        "Только в первом случае объект `book` стал существовать.  \n",
        "В остальных случаях объект не сконструирован (такими объектом пользоваться нельзя)."
      ],
      "metadata": {
        "id": "koN7He1rcbGs"
      }
    },
    {
      "cell_type": "markdown",
      "metadata": {
        "id": "othAixfVpsS0"
      },
      "source": [
        "***Плохо:(***  \n",
        "Неверное проектирование `__init__`\n",
        "```python\n",
        "class Book:\n",
        "    def __init__(self, pages):\n",
        "        if not isinstance(pages, int):\n",
        "            return\n",
        "        if pages <= 0:\n",
        "            return\n",
        "        self.pages = pages\n",
        "```\n",
        "\n",
        "Пользовать класса не сможет определить успешность инициализации объекта,  \n",
        "потому что `__init__` не бросает исключений.  \n",
        "И пользователю будет доступен несогласованный экземпляр класса"
      ]
    },
    {
      "cell_type": "markdown",
      "metadata": {
        "id": "2YCT6qrbFLe5"
      },
      "source": [
        "***Хорошо:)***  \n",
        "Верное проектирование `__init__`\n",
        "```python\n",
        "class Book:\n",
        "    def __init__(self, pages: int):\n",
        "        if not isinstance(pages, int):\n",
        "            raise TypeError(\"Количество страниц должно быть типа int\")\n",
        "        if pages <= 0:\n",
        "            raise ValueError(\"Количество страниц должно быть положительным числом\")\n",
        "        self.pages = pages\n",
        "```"
      ]
    },
    {
      "cell_type": "markdown",
      "metadata": {
        "id": "1phLNQYaqdCR"
      },
      "source": [
        "От исключений в инициализаторе можно отказаться, если требуется  \n",
        "реализовать \"ленивую\" инициализацию.\n",
        "\n",
        "***Допустимо***  \n",
        "Допустимое проектирование `__init__`\n",
        "```python\n",
        "class Book:\n",
        "    def __init__(self, pages: int):\n",
        "        self.pages = pages\n",
        "```"
      ]
    },
    {
      "cell_type": "markdown",
      "metadata": {
        "id": "Hx2ElhfFrCP4"
      },
      "source": [
        "- В результате вызова `__init__` объект может быть  \n",
        "создан или не создан.  \n",
        "- Пользователь вашего класса определяет успешность инициализации  \n",
        "объекта отсутствием исключений.  \n",
        "- Если при инициализации объекта **НЕ** было выброшено исключение,  \n",
        "то объектом пользоваться можно.  \n",
        "- Если при инициализации объекта было выброшено исключение,  \n",
        "то объектом пользоваться нельзя."
      ]
    },
    {
      "cell_type": "markdown",
      "metadata": {
        "id": "FU6jrMamIh9c"
      },
      "source": [
        "### Как правильно инициализировать атрибуты"
      ]
    },
    {
      "cell_type": "markdown",
      "metadata": {
        "id": "54LUscRpNSP2"
      },
      "source": [
        "Способы создания атрибутов экземпляра:  \n",
        "***Плохо :(***\n",
        "```python\n",
        "class Book:\n",
        "    def __init__(self):\n",
        "        self.author = \"Пушкин А. С.\"\n",
        "\n",
        "    def init_pages(self):\n",
        "        self.pages = 500\n",
        "```\n",
        "Атрибут `pages` не появится после вызова конструктора `__init__`.  \n",
        "Экземпляр будет несогласованным.\n",
        "\n",
        "***Хорошо :)***\n",
        "```python\n",
        "class Book:\n",
        "    def __init__(self):\n",
        "        self.author = \"Пушкин А. С.\"\n",
        "        self.pages = 500\n",
        "```"
      ]
    },
    {
      "cell_type": "markdown",
      "metadata": {
        "id": "ycKZ29yjN5uG"
      },
      "source": [
        "Если требуется создавать множество атрибутов класса, а некоторые  \n",
        "атрибуты можно логически объединить, то инициализацию таких атрибутов  \n",
        "выносят в отдельные методы, но\n",
        "1. ставят первональное значение, например, `None` в `__init__`\n",
        "2. эти методы ***обязательно*** вызывают в `__init__`.  \n",
        "\n",
        "***Если очень хочется, то можно ;)***\n",
        "```python\n",
        "class Book:\n",
        "    def __init__(self):\n",
        "        self.pages = None\n",
        "        self.init_pages()  # обязательно вызываем метод\n",
        "\n",
        "    def init_pages(self):\n",
        "        self.pages = 500\n",
        "```\n",
        "\n",
        "Пользователь должен прочитать `__init__`  \n",
        "и понять с какими атрибутами он будет работать.\n"
      ]
    },
    {
      "cell_type": "markdown",
      "source": [
        "### Документирование класса"
      ],
      "metadata": {
        "id": "sqNl2Doql0RF"
      }
    },
    {
      "cell_type": "code",
      "source": [
        "class Book:\n",
        "    \"\"\"\n",
        "    Документация на класс.\n",
        "    Класс описывает модель книги.\n",
        "    \"\"\"\n",
        "    def __init__(self, author: str, pages: int):\n",
        "        \"\"\" Инициализация экземпляра класса. \"\"\"\n",
        "        self.author = author\n",
        "        self.pages = pages\n",
        "\n",
        "    def increment_last_read_page(self, read_pages: int):\n",
        "        \"\"\"\n",
        "        Метод увеличивает последнюю прочитанную страницу.\n",
        "\n",
        "        :param read_pages: Количество прочитанных страниц\n",
        "        \"\"\"\n",
        "        if not isinstance(read_pages, int):  # проверяем, что прочитанные страницы типа int\n",
        "            raise TypeError(\"Прочитанные страницы должны быть типа int\")  # вызываем ошибку\n",
        "\n",
        "        if read_pages < 0:\n",
        "            raise ValueError(\"Прочитанные страницы должны быть положительным числом\")\n",
        "\n",
        "        # и только после всех проверок\n",
        "        self.last_read_page += read_pages\n",
        "\n",
        "\n",
        "book = Book(\"Пушкин А. С.\", 500)\n",
        "help(book)"
      ],
      "metadata": {
        "colab": {
          "base_uri": "https://localhost:8080/"
        },
        "id": "-8tKeDurCEIV",
        "outputId": "a18189cd-cd55-4207-e3c5-29d0f5ab1899"
      },
      "execution_count": null,
      "outputs": [
        {
          "output_type": "stream",
          "name": "stdout",
          "text": [
            "Help on Book in module __main__ object:\n",
            "\n",
            "class Book(builtins.object)\n",
            " |  Book(author: str, pages: int)\n",
            " |  \n",
            " |  Документация на класс.\n",
            " |  Класс описывает модель книги.\n",
            " |  \n",
            " |  Methods defined here:\n",
            " |  \n",
            " |  __init__(self, author: str, pages: int)\n",
            " |      Инициализация экземпляра класса.\n",
            " |  \n",
            " |  increment_last_read_page(self, read_pages: int)\n",
            " |      Метод увеличивает последнюю прочитанную страницу.\n",
            " |      \n",
            " |      :param read_pages: Количество прочитанных страниц\n",
            " |  \n",
            " |  ----------------------------------------------------------------------\n",
            " |  Data descriptors defined here:\n",
            " |  \n",
            " |  __dict__\n",
            " |      dictionary for instance variables (if defined)\n",
            " |  \n",
            " |  __weakref__\n",
            " |      list of weak references to the object (if defined)\n",
            "\n"
          ]
        }
      ]
    },
    {
      "cell_type": "markdown",
      "source": [
        "### Выводы\n",
        "\n",
        "1. Инициализация (англ. initialization) — присвоение начальных значений  \n",
        "атрибутам экземпляра класса.  \n",
        "В Python за это отвечает специальный метод `__init__`.\n",
        "1. Метод `__init__` подготавливает объект класса к использованию.  \n",
        "Определение всех атрибутов должно находиться в этом методе.  \n",
        "Если атрибут отпределяется во внешнем методе,  \n",
        "то внешний метод необходимо вызвать в `__init__`.\n",
        "1. После вызова `__init__` должен быть согласованный экземпляр класса."
      ],
      "metadata": {
        "id": "_SvBbLTRCwpk"
      }
    },
    {
      "cell_type": "code",
      "source": [],
      "metadata": {
        "id": "uQN8jydyVjkt"
      },
      "execution_count": null,
      "outputs": []
    }
  ]
}